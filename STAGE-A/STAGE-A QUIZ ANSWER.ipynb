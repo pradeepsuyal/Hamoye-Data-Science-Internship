{
 "cells": [
  {
   "cell_type": "markdown",
   "id": "b5a543bd",
   "metadata": {},
   "source": [
    "## STAGE-A QUIZ"
   ]
  },
  {
   "cell_type": "code",
   "execution_count": 1,
   "id": "802334c6",
   "metadata": {},
   "outputs": [],
   "source": [
    "import pandas as pd\n",
    "import numpy as np\n",
    "import matplotlib.pyplot as plt\n",
    "import seaborn as sns\n",
    "\n",
    "%matplotlib inline"
   ]
  },
  {
   "cell_type": "code",
   "execution_count": 2,
   "id": "894a7894",
   "metadata": {},
   "outputs": [
    {
     "data": {
      "text/html": [
       "<div>\n",
       "<style scoped>\n",
       "    .dataframe tbody tr th:only-of-type {\n",
       "        vertical-align: middle;\n",
       "    }\n",
       "\n",
       "    .dataframe tbody tr th {\n",
       "        vertical-align: top;\n",
       "    }\n",
       "\n",
       "    .dataframe thead th {\n",
       "        text-align: right;\n",
       "    }\n",
       "</style>\n",
       "<table border=\"1\" class=\"dataframe\">\n",
       "  <thead>\n",
       "    <tr style=\"text-align: right;\">\n",
       "      <th></th>\n",
       "      <th>Area Code</th>\n",
       "      <th>Area</th>\n",
       "      <th>Item Code</th>\n",
       "      <th>Item</th>\n",
       "      <th>Element Code</th>\n",
       "      <th>Element</th>\n",
       "      <th>Unit</th>\n",
       "      <th>Y2014</th>\n",
       "      <th>Y2015</th>\n",
       "      <th>Y2016</th>\n",
       "      <th>Y2017</th>\n",
       "      <th>Y2018</th>\n",
       "    </tr>\n",
       "  </thead>\n",
       "  <tbody>\n",
       "    <tr>\n",
       "      <th>0</th>\n",
       "      <td>4</td>\n",
       "      <td>Algeria</td>\n",
       "      <td>2501</td>\n",
       "      <td>Population</td>\n",
       "      <td>511</td>\n",
       "      <td>Total Population - Both sexes</td>\n",
       "      <td>1000 persons</td>\n",
       "      <td>38924.00</td>\n",
       "      <td>39728.00</td>\n",
       "      <td>40551.00</td>\n",
       "      <td>41389.00</td>\n",
       "      <td>42228.00</td>\n",
       "    </tr>\n",
       "    <tr>\n",
       "      <th>1</th>\n",
       "      <td>4</td>\n",
       "      <td>Algeria</td>\n",
       "      <td>2501</td>\n",
       "      <td>Population</td>\n",
       "      <td>5301</td>\n",
       "      <td>Domestic supply quantity</td>\n",
       "      <td>1000 tonnes</td>\n",
       "      <td>0.00</td>\n",
       "      <td>0.00</td>\n",
       "      <td>0.00</td>\n",
       "      <td>0.00</td>\n",
       "      <td>0.00</td>\n",
       "    </tr>\n",
       "    <tr>\n",
       "      <th>2</th>\n",
       "      <td>4</td>\n",
       "      <td>Algeria</td>\n",
       "      <td>2901</td>\n",
       "      <td>Grand Total</td>\n",
       "      <td>664</td>\n",
       "      <td>Food supply (kcal/capita/day)</td>\n",
       "      <td>kcal/capita/day</td>\n",
       "      <td>3377.00</td>\n",
       "      <td>3379.00</td>\n",
       "      <td>3372.00</td>\n",
       "      <td>3341.00</td>\n",
       "      <td>3322.00</td>\n",
       "    </tr>\n",
       "    <tr>\n",
       "      <th>3</th>\n",
       "      <td>4</td>\n",
       "      <td>Algeria</td>\n",
       "      <td>2901</td>\n",
       "      <td>Grand Total</td>\n",
       "      <td>674</td>\n",
       "      <td>Protein supply quantity (g/capita/day)</td>\n",
       "      <td>g/capita/day</td>\n",
       "      <td>94.90</td>\n",
       "      <td>94.35</td>\n",
       "      <td>94.72</td>\n",
       "      <td>92.82</td>\n",
       "      <td>91.83</td>\n",
       "    </tr>\n",
       "    <tr>\n",
       "      <th>4</th>\n",
       "      <td>4</td>\n",
       "      <td>Algeria</td>\n",
       "      <td>2901</td>\n",
       "      <td>Grand Total</td>\n",
       "      <td>684</td>\n",
       "      <td>Fat supply quantity (g/capita/day)</td>\n",
       "      <td>g/capita/day</td>\n",
       "      <td>80.06</td>\n",
       "      <td>79.36</td>\n",
       "      <td>77.40</td>\n",
       "      <td>80.19</td>\n",
       "      <td>77.28</td>\n",
       "    </tr>\n",
       "  </tbody>\n",
       "</table>\n",
       "</div>"
      ],
      "text/plain": [
       "   Area Code     Area  Item Code         Item  Element Code  \\\n",
       "0          4  Algeria       2501   Population           511   \n",
       "1          4  Algeria       2501   Population          5301   \n",
       "2          4  Algeria       2901  Grand Total           664   \n",
       "3          4  Algeria       2901  Grand Total           674   \n",
       "4          4  Algeria       2901  Grand Total           684   \n",
       "\n",
       "                                  Element             Unit     Y2014  \\\n",
       "0           Total Population - Both sexes     1000 persons  38924.00   \n",
       "1                Domestic supply quantity      1000 tonnes      0.00   \n",
       "2           Food supply (kcal/capita/day)  kcal/capita/day   3377.00   \n",
       "3  Protein supply quantity (g/capita/day)     g/capita/day     94.90   \n",
       "4      Fat supply quantity (g/capita/day)     g/capita/day     80.06   \n",
       "\n",
       "      Y2015     Y2016     Y2017     Y2018  \n",
       "0  39728.00  40551.00  41389.00  42228.00  \n",
       "1      0.00      0.00      0.00      0.00  \n",
       "2   3379.00   3372.00   3341.00   3322.00  \n",
       "3     94.35     94.72     92.82     91.83  \n",
       "4     79.36     77.40     80.19     77.28  "
      ]
     },
     "execution_count": 2,
     "metadata": {},
     "output_type": "execute_result"
    }
   ],
   "source": [
    "df = pd.read_csv('FoodBalanceSheets_E_Africa_NOFLAG.csv')\n",
    "df.head()"
   ]
  },
  {
   "cell_type": "code",
   "execution_count": 3,
   "id": "eca94ade",
   "metadata": {},
   "outputs": [
    {
     "data": {
      "text/plain": [
       "Milk - Excluding Butter     1262\n",
       "Eggs                        1142\n",
       "Miscellaneous                911\n",
       "Cereals - Excluding Beer     714\n",
       "Oilcrops                     706\n",
       "                            ... \n",
       "Animal Products              135\n",
       "Vegetal Products             135\n",
       "Grand Total                  135\n",
       "Sugar non-centrifugal        121\n",
       "Population                    90\n",
       "Name: Item, Length: 119, dtype: int64"
      ]
     },
     "execution_count": 3,
     "metadata": {},
     "output_type": "execute_result"
    }
   ],
   "source": [
    "#checking for null values\n",
    "df['Item'].value_counts()"
   ]
  },
  {
   "cell_type": "markdown",
   "id": "ee9710e9",
   "metadata": {},
   "source": [
    "Q11-What is the total sum of Animal Fat produced in 2014 and 2017 respectively?"
   ]
  },
  {
   "cell_type": "code",
   "execution_count": 4,
   "id": "4401ebb8",
   "metadata": {},
   "outputs": [
    {
     "data": {
      "text/html": [
       "<div>\n",
       "<style scoped>\n",
       "    .dataframe tbody tr th:only-of-type {\n",
       "        vertical-align: middle;\n",
       "    }\n",
       "\n",
       "    .dataframe tbody tr th {\n",
       "        vertical-align: top;\n",
       "    }\n",
       "\n",
       "    .dataframe thead th {\n",
       "        text-align: right;\n",
       "    }\n",
       "</style>\n",
       "<table border=\"1\" class=\"dataframe\">\n",
       "  <thead>\n",
       "    <tr style=\"text-align: right;\">\n",
       "      <th></th>\n",
       "      <th>Area Code</th>\n",
       "      <th>Item Code</th>\n",
       "      <th>Element Code</th>\n",
       "      <th>Y2014</th>\n",
       "      <th>Y2015</th>\n",
       "      <th>Y2016</th>\n",
       "      <th>Y2017</th>\n",
       "      <th>Y2018</th>\n",
       "    </tr>\n",
       "    <tr>\n",
       "      <th>Item</th>\n",
       "      <th></th>\n",
       "      <th></th>\n",
       "      <th></th>\n",
       "      <th></th>\n",
       "      <th></th>\n",
       "      <th></th>\n",
       "      <th></th>\n",
       "      <th></th>\n",
       "    </tr>\n",
       "  </thead>\n",
       "  <tbody>\n",
       "    <tr>\n",
       "      <th>Alcohol, Non-Food</th>\n",
       "      <td>38447</td>\n",
       "      <td>752497</td>\n",
       "      <td>1515090</td>\n",
       "      <td>2403.00</td>\n",
       "      <td>2180.00</td>\n",
       "      <td>2223.00</td>\n",
       "      <td>2348.00</td>\n",
       "      <td>2293.00</td>\n",
       "    </tr>\n",
       "    <tr>\n",
       "      <th>Alcoholic Beverages</th>\n",
       "      <td>75016</td>\n",
       "      <td>1649136</td>\n",
       "      <td>2171381</td>\n",
       "      <td>102410.11</td>\n",
       "      <td>98783.72</td>\n",
       "      <td>96958.75</td>\n",
       "      <td>95581.06</td>\n",
       "      <td>97847.27</td>\n",
       "    </tr>\n",
       "    <tr>\n",
       "      <th>Animal Products</th>\n",
       "      <td>18060</td>\n",
       "      <td>397035</td>\n",
       "      <td>90990</td>\n",
       "      <td>11935.65</td>\n",
       "      <td>11811.73</td>\n",
       "      <td>11661.69</td>\n",
       "      <td>11547.65</td>\n",
       "      <td>11578.61</td>\n",
       "    </tr>\n",
       "    <tr>\n",
       "      <th>Animal fats</th>\n",
       "      <td>85279</td>\n",
       "      <td>1882494</td>\n",
       "      <td>2567303</td>\n",
       "      <td>209460.54</td>\n",
       "      <td>200675.72</td>\n",
       "      <td>183314.22</td>\n",
       "      <td>269617.53</td>\n",
       "      <td>269648.27</td>\n",
       "    </tr>\n",
       "    <tr>\n",
       "      <th>Apples and products</th>\n",
       "      <td>69280</td>\n",
       "      <td>1352989</td>\n",
       "      <td>1920418</td>\n",
       "      <td>9499.23</td>\n",
       "      <td>10559.15</td>\n",
       "      <td>9853.26</td>\n",
       "      <td>10198.90</td>\n",
       "      <td>9640.51</td>\n",
       "    </tr>\n",
       "    <tr>\n",
       "      <th>...</th>\n",
       "      <td>...</td>\n",
       "      <td>...</td>\n",
       "      <td>...</td>\n",
       "      <td>...</td>\n",
       "      <td>...</td>\n",
       "      <td>...</td>\n",
       "      <td>...</td>\n",
       "      <td>...</td>\n",
       "    </tr>\n",
       "    <tr>\n",
       "      <th>Vegetables, Other</th>\n",
       "      <td>77779</td>\n",
       "      <td>1518715</td>\n",
       "      <td>2275409</td>\n",
       "      <td>155038.96</td>\n",
       "      <td>158104.08</td>\n",
       "      <td>156218.90</td>\n",
       "      <td>157752.59</td>\n",
       "      <td>163987.21</td>\n",
       "    </tr>\n",
       "    <tr>\n",
       "      <th>Vegetal Products</th>\n",
       "      <td>18060</td>\n",
       "      <td>391905</td>\n",
       "      <td>90990</td>\n",
       "      <td>107145.19</td>\n",
       "      <td>107064.17</td>\n",
       "      <td>106792.72</td>\n",
       "      <td>107655.20</td>\n",
       "      <td>107775.39</td>\n",
       "    </tr>\n",
       "    <tr>\n",
       "      <th>Wheat and products</th>\n",
       "      <td>87073</td>\n",
       "      <td>1639683</td>\n",
       "      <td>2654934</td>\n",
       "      <td>232670.13</td>\n",
       "      <td>234710.51</td>\n",
       "      <td>239377.07</td>\n",
       "      <td>240047.62</td>\n",
       "      <td>242645.19</td>\n",
       "    </tr>\n",
       "    <tr>\n",
       "      <th>Wine</th>\n",
       "      <td>66206</td>\n",
       "      <td>1319535</td>\n",
       "      <td>1818328</td>\n",
       "      <td>4497.36</td>\n",
       "      <td>4251.81</td>\n",
       "      <td>3872.09</td>\n",
       "      <td>4178.02</td>\n",
       "      <td>4039.32</td>\n",
       "    </tr>\n",
       "    <tr>\n",
       "      <th>Yams</th>\n",
       "      <td>50798</td>\n",
       "      <td>970905</td>\n",
       "      <td>1525745</td>\n",
       "      <td>200396.96</td>\n",
       "      <td>203151.78</td>\n",
       "      <td>220626.20</td>\n",
       "      <td>229174.59</td>\n",
       "      <td>221272.09</td>\n",
       "    </tr>\n",
       "  </tbody>\n",
       "</table>\n",
       "<p>119 rows × 8 columns</p>\n",
       "</div>"
      ],
      "text/plain": [
       "                     Area Code  Item Code  Element Code      Y2014      Y2015  \\\n",
       "Item                                                                            \n",
       "Alcohol, Non-Food        38447     752497       1515090    2403.00    2180.00   \n",
       "Alcoholic Beverages      75016    1649136       2171381  102410.11   98783.72   \n",
       "Animal Products          18060     397035         90990   11935.65   11811.73   \n",
       "Animal fats              85279    1882494       2567303  209460.54  200675.72   \n",
       "Apples and products      69280    1352989       1920418    9499.23   10559.15   \n",
       "...                        ...        ...           ...        ...        ...   \n",
       "Vegetables, Other        77779    1518715       2275409  155038.96  158104.08   \n",
       "Vegetal Products         18060     391905         90990  107145.19  107064.17   \n",
       "Wheat and products       87073    1639683       2654934  232670.13  234710.51   \n",
       "Wine                     66206    1319535       1818328    4497.36    4251.81   \n",
       "Yams                     50798     970905       1525745  200396.96  203151.78   \n",
       "\n",
       "                         Y2016      Y2017      Y2018  \n",
       "Item                                                  \n",
       "Alcohol, Non-Food      2223.00    2348.00    2293.00  \n",
       "Alcoholic Beverages   96958.75   95581.06   97847.27  \n",
       "Animal Products       11661.69   11547.65   11578.61  \n",
       "Animal fats          183314.22  269617.53  269648.27  \n",
       "Apples and products    9853.26   10198.90    9640.51  \n",
       "...                        ...        ...        ...  \n",
       "Vegetables, Other    156218.90  157752.59  163987.21  \n",
       "Vegetal Products     106792.72  107655.20  107775.39  \n",
       "Wheat and products   239377.07  240047.62  242645.19  \n",
       "Wine                   3872.09    4178.02    4039.32  \n",
       "Yams                 220626.20  229174.59  221272.09  \n",
       "\n",
       "[119 rows x 8 columns]"
      ]
     },
     "execution_count": 4,
     "metadata": {},
     "output_type": "execute_result"
    }
   ],
   "source": [
    "df.groupby('Item').sum()\n",
    "\n",
    "#ANSWER-->209460.54 and 269617.53"
   ]
  },
  {
   "cell_type": "markdown",
   "id": "d985e853",
   "metadata": {},
   "source": [
    "Q12-What is the mean and standard deviation across the whole dataset for the year 2015 to 3 decimal places?"
   ]
  },
  {
   "cell_type": "code",
   "execution_count": 5,
   "id": "b106beca",
   "metadata": {},
   "outputs": [
    {
     "data": {
      "text/html": [
       "<div>\n",
       "<style scoped>\n",
       "    .dataframe tbody tr th:only-of-type {\n",
       "        vertical-align: middle;\n",
       "    }\n",
       "\n",
       "    .dataframe tbody tr th {\n",
       "        vertical-align: top;\n",
       "    }\n",
       "\n",
       "    .dataframe thead th {\n",
       "        text-align: right;\n",
       "    }\n",
       "</style>\n",
       "<table border=\"1\" class=\"dataframe\">\n",
       "  <thead>\n",
       "    <tr style=\"text-align: right;\">\n",
       "      <th></th>\n",
       "      <th>Area Code</th>\n",
       "      <th>Item Code</th>\n",
       "      <th>Element Code</th>\n",
       "      <th>Y2014</th>\n",
       "      <th>Y2015</th>\n",
       "      <th>Y2016</th>\n",
       "      <th>Y2017</th>\n",
       "      <th>Y2018</th>\n",
       "    </tr>\n",
       "  </thead>\n",
       "  <tbody>\n",
       "    <tr>\n",
       "      <th>count</th>\n",
       "      <td>60943.000000</td>\n",
       "      <td>60943.000000</td>\n",
       "      <td>60943.000000</td>\n",
       "      <td>59354.000000</td>\n",
       "      <td>59395.000000</td>\n",
       "      <td>59408.000000</td>\n",
       "      <td>59437.000000</td>\n",
       "      <td>59507.000000</td>\n",
       "    </tr>\n",
       "    <tr>\n",
       "      <th>mean</th>\n",
       "      <td>134.265576</td>\n",
       "      <td>2687.176706</td>\n",
       "      <td>3814.856456</td>\n",
       "      <td>134.196282</td>\n",
       "      <td>135.235966</td>\n",
       "      <td>136.555222</td>\n",
       "      <td>140.917765</td>\n",
       "      <td>143.758381</td>\n",
       "    </tr>\n",
       "    <tr>\n",
       "      <th>std</th>\n",
       "      <td>72.605709</td>\n",
       "      <td>146.055739</td>\n",
       "      <td>2212.007033</td>\n",
       "      <td>1567.663696</td>\n",
       "      <td>1603.403984</td>\n",
       "      <td>1640.007194</td>\n",
       "      <td>1671.862359</td>\n",
       "      <td>1710.782658</td>\n",
       "    </tr>\n",
       "    <tr>\n",
       "      <th>min</th>\n",
       "      <td>4.000000</td>\n",
       "      <td>2501.000000</td>\n",
       "      <td>511.000000</td>\n",
       "      <td>-1796.000000</td>\n",
       "      <td>-3161.000000</td>\n",
       "      <td>-3225.000000</td>\n",
       "      <td>-1582.000000</td>\n",
       "      <td>-3396.000000</td>\n",
       "    </tr>\n",
       "    <tr>\n",
       "      <th>25%</th>\n",
       "      <td>74.000000</td>\n",
       "      <td>2562.000000</td>\n",
       "      <td>684.000000</td>\n",
       "      <td>0.000000</td>\n",
       "      <td>0.000000</td>\n",
       "      <td>0.000000</td>\n",
       "      <td>0.000000</td>\n",
       "      <td>0.000000</td>\n",
       "    </tr>\n",
       "    <tr>\n",
       "      <th>50%</th>\n",
       "      <td>136.000000</td>\n",
       "      <td>2630.000000</td>\n",
       "      <td>5142.000000</td>\n",
       "      <td>0.090000</td>\n",
       "      <td>0.080000</td>\n",
       "      <td>0.080000</td>\n",
       "      <td>0.100000</td>\n",
       "      <td>0.070000</td>\n",
       "    </tr>\n",
       "    <tr>\n",
       "      <th>75%</th>\n",
       "      <td>195.000000</td>\n",
       "      <td>2775.000000</td>\n",
       "      <td>5511.000000</td>\n",
       "      <td>8.340000</td>\n",
       "      <td>8.460000</td>\n",
       "      <td>8.430000</td>\n",
       "      <td>9.000000</td>\n",
       "      <td>9.000000</td>\n",
       "    </tr>\n",
       "    <tr>\n",
       "      <th>max</th>\n",
       "      <td>276.000000</td>\n",
       "      <td>2961.000000</td>\n",
       "      <td>5911.000000</td>\n",
       "      <td>176405.000000</td>\n",
       "      <td>181137.000000</td>\n",
       "      <td>185960.000000</td>\n",
       "      <td>190873.000000</td>\n",
       "      <td>195875.000000</td>\n",
       "    </tr>\n",
       "  </tbody>\n",
       "</table>\n",
       "</div>"
      ],
      "text/plain": [
       "          Area Code     Item Code  Element Code          Y2014          Y2015  \\\n",
       "count  60943.000000  60943.000000  60943.000000   59354.000000   59395.000000   \n",
       "mean     134.265576   2687.176706   3814.856456     134.196282     135.235966   \n",
       "std       72.605709    146.055739   2212.007033    1567.663696    1603.403984   \n",
       "min        4.000000   2501.000000    511.000000   -1796.000000   -3161.000000   \n",
       "25%       74.000000   2562.000000    684.000000       0.000000       0.000000   \n",
       "50%      136.000000   2630.000000   5142.000000       0.090000       0.080000   \n",
       "75%      195.000000   2775.000000   5511.000000       8.340000       8.460000   \n",
       "max      276.000000   2961.000000   5911.000000  176405.000000  181137.000000   \n",
       "\n",
       "               Y2016          Y2017          Y2018  \n",
       "count   59408.000000   59437.000000   59507.000000  \n",
       "mean      136.555222     140.917765     143.758381  \n",
       "std      1640.007194    1671.862359    1710.782658  \n",
       "min     -3225.000000   -1582.000000   -3396.000000  \n",
       "25%         0.000000       0.000000       0.000000  \n",
       "50%         0.080000       0.100000       0.070000  \n",
       "75%         8.430000       9.000000       9.000000  \n",
       "max    185960.000000  190873.000000  195875.000000  "
      ]
     },
     "execution_count": 5,
     "metadata": {},
     "output_type": "execute_result"
    }
   ],
   "source": [
    "df.describe()\n",
    "\n",
    "#ANSWER-->135.236 and 1603.404"
   ]
  },
  {
   "cell_type": "markdown",
   "id": "f99da7b2",
   "metadata": {},
   "source": [
    "Q13-What is the total number and percentage of missing data in 2016 to 2 decimal places?"
   ]
  },
  {
   "cell_type": "code",
   "execution_count": 6,
   "id": "dc57be9a",
   "metadata": {},
   "outputs": [
    {
     "name": "stdout",
     "output_type": "stream",
     "text": [
      "1535.00\n"
     ]
    }
   ],
   "source": [
    "num_of_missing_data = df.isnull().sum()['Y2016']\n",
    "print(\"{:.2f}\".format(num_of_missing_data))"
   ]
  },
  {
   "cell_type": "code",
   "execution_count": 8,
   "id": "6ca91dc7",
   "metadata": {},
   "outputs": [
    {
     "name": "stdout",
     "output_type": "stream",
     "text": [
      "2.52\n"
     ]
    }
   ],
   "source": [
    "prcnt_of_missing_data = (df.isnull().sum()['Y2016']/df.shape[0])*100\n",
    "print(\"{:.2f}\".format(prcnt_of_missing_data))"
   ]
  },
  {
   "cell_type": "markdown",
   "id": "ec745c22",
   "metadata": {},
   "source": [
    "Q14-Which year had the highest correlation with ‘Element Code’? "
   ]
  },
  {
   "cell_type": "code",
   "execution_count": 9,
   "id": "1307beb5",
   "metadata": {},
   "outputs": [
    {
     "data": {
      "text/plain": [
       "Element Code    1.000000\n",
       "Y2014           0.024457\n",
       "Y2018           0.024279\n",
       "Y2017           0.024254\n",
       "Y2015           0.023889\n",
       "Y2016           0.023444\n",
       "Area Code      -0.000209\n",
       "Item Code      -0.024683\n",
       "Name: Element Code, dtype: float64"
      ]
     },
     "execution_count": 9,
     "metadata": {},
     "output_type": "execute_result"
    }
   ],
   "source": [
    "df.corr()['Element Code'].sort_values(ascending=False)\n",
    "\n",
    "#ANSWER-->Year2014"
   ]
  },
  {
   "cell_type": "markdown",
   "id": "05204763",
   "metadata": {},
   "source": [
    "Q15-What year has the highest sum of Import Quantity?"
   ]
  },
  {
   "cell_type": "code",
   "execution_count": 10,
   "id": "2261b61c",
   "metadata": {},
   "outputs": [
    {
     "name": "stdout",
     "output_type": "stream",
     "text": [
      "Y2014 7965086.130000004\n",
      "Y2015 8032340.230000004\n",
      "Y2016 8112472.650000003\n",
      "Y2017 8375729.190000001\n"
     ]
    }
   ],
   "source": [
    "print('Y2014',sum(df.groupby('Element').sum()['Y2014']))\n",
    "print('Y2015',sum(df.groupby('Element').sum()['Y2015']))\n",
    "print('Y2016',sum(df.groupby('Element').sum()['Y2016']))\n",
    "print('Y2017',sum(df.groupby('Element').sum()['Y2017']))\n",
    "\n",
    "#ANSWER-->Y2017"
   ]
  },
  {
   "cell_type": "markdown",
   "id": "d2289bd5",
   "metadata": {},
   "source": [
    "Q16-What is the total number of the sum of Production in 2014?"
   ]
  },
  {
   "cell_type": "code",
   "execution_count": 14,
   "id": "049b01e1",
   "metadata": {},
   "outputs": [
    {
     "data": {
      "text/plain": [
       "1931287.7500000005"
      ]
     },
     "execution_count": 14,
     "metadata": {},
     "output_type": "execute_result"
    }
   ],
   "source": [
    "df.groupby('Element').sum()['Y2014']['Production']"
   ]
  },
  {
   "cell_type": "markdown",
   "id": "6aa1fb27",
   "metadata": {},
   "source": [
    "Q17-Which of these elements had the highest sum in 2018?"
   ]
  },
  {
   "cell_type": "code",
   "execution_count": 15,
   "id": "cac34f5d",
   "metadata": {},
   "outputs": [
    {
     "data": {
      "text/plain": [
       "Element\n",
       "Domestic supply quantity                  2161192.10\n",
       "Production                                2075072.89\n",
       "Food                                      1303841.28\n",
       "Total Population - Both sexes             1140605.00\n",
       "Food supply (kcal/capita/day)              455261.00\n",
       "Processing                                 308429.00\n",
       "Import Quantity                            287997.09\n",
       "Feed                                       233489.68\n",
       "Export Quantity                            181594.80\n",
       "Losses                                     163902.00\n",
       "Other uses (non-food)                       91300.97\n",
       "Food supply quantity (kg/capita/yr)         49056.85\n",
       "Residuals                                   34864.00\n",
       "Seed                                        25263.14\n",
       "Stock Variation                             20577.91\n",
       "Protein supply quantity (g/capita/day)      11833.56\n",
       "Fat supply quantity (g/capita/day)          10258.69\n",
       "Tourist consumption                            90.00\n",
       "Name: Y2018, dtype: float64"
      ]
     },
     "execution_count": 15,
     "metadata": {},
     "output_type": "execute_result"
    }
   ],
   "source": [
    "df.groupby('Element').sum()['Y2018'].sort_values(ascending=False)\n",
    "\n",
    "#ANSWER-->Domestic supply quantity"
   ]
  },
  {
   "cell_type": "markdown",
   "id": "b7444403",
   "metadata": {},
   "source": [
    "Q18-Which of these elements had the 3rd lowest sum in 2018?"
   ]
  },
  {
   "cell_type": "code",
   "execution_count": null,
   "id": "03d3d962",
   "metadata": {},
   "outputs": [],
   "source": [
    "#ANSWER--> from above we can that it is \"Protein supply quantity (g/capita/day)\""
   ]
  },
  {
   "cell_type": "markdown",
   "id": "d74ea28e",
   "metadata": {},
   "source": [
    "Q19-What is the total Import Quantity in Algeria in 2018?"
   ]
  },
  {
   "cell_type": "code",
   "execution_count": 16,
   "id": "998df876",
   "metadata": {},
   "outputs": [
    {
     "data": {
      "text/plain": [
       "36238.29"
      ]
     },
     "execution_count": 16,
     "metadata": {},
     "output_type": "execute_result"
    }
   ],
   "source": [
    "df.groupby(['Area','Element']).sum()['Y2018']['Algeria']['Import Quantity']"
   ]
  },
  {
   "cell_type": "markdown",
   "id": "9dd98c65",
   "metadata": {},
   "source": [
    "Q20-What is the total number of unique countries in the dataset?"
   ]
  },
  {
   "cell_type": "code",
   "execution_count": 17,
   "id": "475cc91d",
   "metadata": {},
   "outputs": [
    {
     "data": {
      "text/plain": [
       "49"
      ]
     },
     "execution_count": 17,
     "metadata": {},
     "output_type": "execute_result"
    }
   ],
   "source": [
    "df.Area.nunique()"
   ]
  }
 ],
 "metadata": {
  "kernelspec": {
   "display_name": "Python 3",
   "language": "python",
   "name": "python3"
  },
  "language_info": {
   "codemirror_mode": {
    "name": "ipython",
    "version": 3
   },
   "file_extension": ".py",
   "mimetype": "text/x-python",
   "name": "python",
   "nbconvert_exporter": "python",
   "pygments_lexer": "ipython3",
   "version": "3.8.8"
  }
 },
 "nbformat": 4,
 "nbformat_minor": 5
}
